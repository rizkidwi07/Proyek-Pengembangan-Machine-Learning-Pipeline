{
 "cells": [
  {
   "cell_type": "code",
   "execution_count": 9,
   "metadata": {},
   "outputs": [],
   "source": [
    "import tensorflow as tf\n",
    "import pandas as pd\n",
    "import requests\n",
    "import json\n",
    "import base64"
   ]
  },
  {
   "cell_type": "code",
   "execution_count": 10,
   "metadata": {},
   "outputs": [],
   "source": [
    "df   = pd.read_csv('data\\Cleaned_Sarcasm.csv')\n",
    "text = df['tweet'][2]"
   ]
  },
  {
   "cell_type": "code",
   "execution_count": 11,
   "metadata": {},
   "outputs": [],
   "source": [
    "def prepare_json(text):\n",
    "    feature_spec = {\n",
    "        'tweet': tf.train.Feature(bytes_list=tf.train.BytesList(value=[bytes(text, 'utf-8')]))\n",
    "    }\n",
    "    \n",
    "    example = tf.train.Example(\n",
    "        features=tf.train.Features(feature=feature_spec)\n",
    "    ).SerializeToString()\n",
    "    \n",
    "    result = [{\n",
    "        'examples': {\n",
    "            'b64': base64.b64encode(example).decode()\n",
    "        }\n",
    "    }]\n",
    "    \n",
    "    return json.dumps({\n",
    "        'signature_name': 'serving_default',\n",
    "        'instances': result\n",
    "    })"
   ]
  },
  {
   "cell_type": "code",
   "execution_count": 12,
   "metadata": {},
   "outputs": [],
   "source": [
    "def predict(text):\n",
    "    response = requests.post(\n",
    "        'http://localhost:8090/v1/models/sarcastic-detection-model:predict',\n",
    "        data = prepare_json(text)\n",
    "    )\n",
    "    \n",
    "    predict = response.json()['predictions'][0][0]\n",
    "    return predict"
   ]
  },
  {
   "cell_type": "code",
   "execution_count": 13,
   "metadata": {},
   "outputs": [
    {
     "name": "stdout",
     "output_type": "stream",
     "text": [
      "Remember the hundred emails from companies when Covid started getting real? I’ve gotten three in regards to support for protests. And only @SavageXFenty shared helpful links and actually said black lives matter... we love capitalism 🥰🙌🏼\n",
      "\n",
      "This is Not Sarcasm Teks (0.000309943454)\n"
     ]
    }
   ],
   "source": [
    "predict = predict(text)\n",
    "\n",
    "print(f'{text}\\n')\n",
    "print(f'This is Sarcasm Teks ({predict})' if predict > 0.6 else f'This is Not Sarcasm Teks ({predict})')"
   ]
  }
 ],
 "metadata": {
  "kernelspec": {
   "display_name": ".venv",
   "language": "python",
   "name": "python3"
  },
  "language_info": {
   "codemirror_mode": {
    "name": "ipython",
    "version": 3
   },
   "file_extension": ".py",
   "mimetype": "text/x-python",
   "name": "python",
   "nbconvert_exporter": "python",
   "pygments_lexer": "ipython3",
   "version": "3.9.0"
  }
 },
 "nbformat": 4,
 "nbformat_minor": 2
}
